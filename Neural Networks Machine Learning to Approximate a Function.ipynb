{
 "cells": [
  {
   "cell_type": "markdown",
   "id": "aebf8061",
   "metadata": {},
   "source": [
    "# Deep Neural Network"
   ]
  },
  {
   "cell_type": "code",
   "execution_count": 1,
   "id": "6a3ea3b0",
   "metadata": {},
   "outputs": [],
   "source": [
    "import tensorflow as tf\n",
    "\n",
    "from tensorflow import keras\n",
    "\n",
    "from tensorflow.keras import layers\n",
    "\n",
    "from tensorflow.keras.layers.experimental import preprocessing\n",
    "\n",
    "import numpy as np\n",
    "\n",
    "import pandas as pd\n",
    "\n",
    "import statistics as stat\n",
    "\n",
    "import matplotlib.pyplot as plt"
   ]
  },
  {
   "cell_type": "markdown",
   "id": "410e8d49",
   "metadata": {},
   "source": [
    "### Simulate Data"
   ]
  },
  {
   "cell_type": "code",
   "execution_count": 14,
   "id": "a24f9277",
   "metadata": {},
   "outputs": [],
   "source": [
    "# simulate data\n",
    "n=100\n",
    "X=np.random.normal(0,1,(n,1))\n",
    "e=np.random.normal(0,1,(n,1))\n",
    "F= (X**3) +X  #Creating my own function X^3 +X\n",
    "Y=  F +e\n",
    "x_points=np.arange(-2,3,0.1)\n",
    "\n",
    "f= (x_points**3)+x_points\n",
    "y_points=f"
   ]
  },
  {
   "cell_type": "markdown",
   "id": "9896eda6",
   "metadata": {},
   "source": [
    "### Neural Network 1 Layer, 4 Neurons"
   ]
  },
  {
   "cell_type": "code",
   "execution_count": 22,
   "id": "2fe131a5",
   "metadata": {},
   "outputs": [
    {
     "data": {
      "text/plain": [
       "<keras.callbacks.History at 0x29d7411bdc0>"
      ]
     },
     "execution_count": 22,
     "metadata": {},
     "output_type": "execute_result"
    }
   ],
   "source": [
    "# fit deep neural network\n",
    "\n",
    "maxepo=800\n",
    "\n",
    "dnn_model = tf.keras.Sequential([\n",
    "    layers.Dense(4, activation='relu'), # single layer\n",
    "    layers.Dense(1)\n",
    "])\n",
    "\n",
    "dnn_model.compile(\n",
    "    optimizer=tf.optimizers.Adam(learning_rate=0.01),\n",
    "    loss='mean_squared_error')\n",
    "\n",
    "dnn_model.fit(\n",
    "    X, Y,\n",
    "    validation_split=0,\n",
    "    verbose=0, epochs=maxepo)"
   ]
  },
  {
   "cell_type": "code",
   "execution_count": 23,
   "id": "01c2cf4b",
   "metadata": {},
   "outputs": [],
   "source": [
    "# predicted Y 1 \n",
    "\n",
    "YpredNN1=dnn_model.predict(x_points).flatten()"
   ]
  },
  {
   "cell_type": "markdown",
   "id": "1e8f022d",
   "metadata": {},
   "source": [
    "#### Plot 1"
   ]
  },
  {
   "cell_type": "code",
   "execution_count": 24,
   "id": "e026840c",
   "metadata": {},
   "outputs": [
    {
     "data": {
      "text/plain": [
       "Text(0.5, 1.0, 'Plot 1: Single Layer, 4 Neurons')"
      ]
     },
     "execution_count": 24,
     "metadata": {},
     "output_type": "execute_result"
    },
    {
     "data": {
      "image/png": "[encoded data removed]",
      "text/plain": [
       "<Figure size 432x288 with 1 Axes>"
      ]
     },
     "metadata": {
      "needs_background": "light"
     },
     "output_type": "display_data"
    }
   ],
   "source": [
    "# plot 1\n",
    "\n",
    "plt.scatter(X,Y)\n",
    "plt.xlabel('X')\n",
    "plt.ylabel('Y')\n",
    "plt.plot(x_points,y_points,label=\"true F\")\n",
    "plt.plot(x_points,YpredNN1,label=\"estimated F\")\n",
    "plt.legend()\n",
    "plt.title('Plot 1: Single Layer, 4 Neurons')"
   ]
  },
  {
   "cell_type": "markdown",
   "id": "82799d81",
   "metadata": {},
   "source": [
    "### 2 Layers, 8 Neurons Per Layer"
   ]
  },
  {
   "cell_type": "code",
   "execution_count": 27,
   "id": "6eda4aa0",
   "metadata": {},
   "outputs": [
    {
     "data": {
      "text/plain": [
       "<keras.callbacks.History at 0x29d74507640>"
      ]
     },
     "execution_count": 27,
     "metadata": {},
     "output_type": "execute_result"
    }
   ],
   "source": [
    "# fit deep neural network\n",
    "\n",
    "maxepo=800\n",
    "\n",
    "dnn_model = tf.keras.Sequential([\n",
    "    layers.Dense(8, activation='relu'), # first layer\n",
    "    layers.Dense(8, activation='relu'),  # second layer\n",
    "    layers.Dense(1)\n",
    "])\n",
    "\n",
    " \n",
    "\n",
    "dnn_model.compile(\n",
    "    optimizer=tf.optimizers.Adam(learning_rate=0.01),\n",
    "    loss='mean_squared_error')\n",
    "\n",
    " \n",
    "\n",
    "dnn_model.fit(\n",
    "    X, Y,\n",
    "    validation_split=0,\n",
    "    verbose=0, epochs=maxepo)"
   ]
  },
  {
   "cell_type": "code",
   "execution_count": 28,
   "id": "2d5cea1c",
   "metadata": {},
   "outputs": [
    {
     "name": "stdout",
     "output_type": "stream",
     "text": [
      "WARNING:tensorflow:6 out of the last 11 calls to <function Model.make_predict_function.<locals>.predict_function at 0x0000029D744FD160> triggered tf.function retracing. Tracing is expensive and the excessive number of tracings could be due to (1) creating @tf.function repeatedly in a loop, (2) passing tensors with different shapes, (3) passing Python objects instead of tensors. For (1), please define your @tf.function outside of the loop. For (2), @tf.function has experimental_relax_shapes=True option that relaxes argument shapes that can avoid unnecessary retracing. For (3), please refer to https://www.tensorflow.org/guide/function#controlling_retracing and https://www.tensorflow.org/api_docs/python/tf/function for  more details.\n"
     ]
    }
   ],
   "source": [
    "# predicted Y2\n",
    "\n",
    "YpredNN2=dnn_model.predict(x_points).flatten()"
   ]
  },
  {
   "cell_type": "markdown",
   "id": "292c152c",
   "metadata": {},
   "source": [
    "### Plot 2"
   ]
  },
  {
   "cell_type": "code",
   "execution_count": 35,
   "id": "3c071bf6",
   "metadata": {},
   "outputs": [
    {
     "data": {
      "text/plain": [
       "Text(0.5, 1.0, 'Plot 2: 2 layers, 8 neurons per layer')"
      ]
     },
     "execution_count": 35,
     "metadata": {},
     "output_type": "execute_result"
    },
    {
     "data": {
      "image/png": "[encoded data removed]",
      "text/plain": [
       "<Figure size 432x288 with 1 Axes>"
      ]
     },
     "metadata": {
      "needs_background": "light"
     },
     "output_type": "display_data"
    }
   ],
   "source": [
    "# plots\n",
    "\n",
    "plt.scatter(X,Y)\n",
    "\n",
    "plt.xlabel('X')\n",
    "\n",
    "plt.ylabel('Y')\n",
    "\n",
    "plt.plot(x_points,y_points,label=\"true F\")\n",
    "\n",
    "plt.plot(x_points,YpredNN2,label=\"estimated F\")\n",
    "\n",
    "plt.legend()\n",
    "\n",
    "plt.title('Plot 2: 2 layers, 8 neurons per layer')"
   ]
  },
  {
   "cell_type": "markdown",
   "id": "91d3b906",
   "metadata": {},
   "source": [
    "### 3 Layers, First has 16, second has 8, and fourth has 4"
   ]
  },
  {
   "cell_type": "markdown",
   "id": "e47a02a0",
   "metadata": {},
   "source": [
    "#### Plot 3"
   ]
  },
  {
   "cell_type": "code",
   "execution_count": 30,
   "id": "e084f8ef",
   "metadata": {},
   "outputs": [
    {
     "data": {
      "text/plain": [
       "<keras.callbacks.History at 0x29d7562d1c0>"
      ]
     },
     "execution_count": 30,
     "metadata": {},
     "output_type": "execute_result"
    }
   ],
   "source": [
    "# fit deep neural network\n",
    "\n",
    "maxepo=800\n",
    "\n",
    "dnn_model = tf.keras.Sequential([\n",
    "    layers.Dense(16, activation='relu'), # first layer\n",
    "    layers.Dense(8, activation='relu'),  # second layer\n",
    "    layers.Dense(4, activation='relu'),  # Third layer\n",
    "    layers.Dense(1)\n",
    "])\n",
    "\n",
    "dnn_model.compile(\n",
    "    optimizer=tf.optimizers.Adam(learning_rate=0.01),\n",
    "    loss='mean_squared_error')\n",
    "\n",
    "dnn_model.fit(\n",
    "    X, Y,\n",
    "    validation_split=0,\n",
    "    verbose=0, epochs=maxepo)"
   ]
  },
  {
   "cell_type": "code",
   "execution_count": 31,
   "id": "749f98e2",
   "metadata": {},
   "outputs": [],
   "source": [
    "# predicted Y3\n",
    "\n",
    "YpredNN3=dnn_model.predict(x_points).flatten()"
   ]
  },
  {
   "cell_type": "markdown",
   "id": "a9b25c5b",
   "metadata": {},
   "source": [
    "#### Plot 3"
   ]
  },
  {
   "cell_type": "code",
   "execution_count": 37,
   "id": "3df5f125",
   "metadata": {},
   "outputs": [
    {
     "data": {
      "text/plain": [
       "Text(0.5, 1.0, 'Plot 3, 3 layers,16 neurons,8 neurons,4 neurons')"
      ]
     },
     "execution_count": 37,
     "metadata": {},
     "output_type": "execute_result"
    },
    {
     "data": {
      "image/png": "[encoded data removed]",
      "text/plain": [
       "<Figure size 432x288 with 1 Axes>"
      ]
     },
     "metadata": {
      "needs_background": "light"
     },
     "output_type": "display_data"
    }
   ],
   "source": [
    "# plots\n",
    "\n",
    "plt.scatter(X,Y)\n",
    "\n",
    "plt.xlabel('X')\n",
    "\n",
    "plt.ylabel('Y')\n",
    "\n",
    "plt.plot(x_points,y_points,label=\"true F\")\n",
    "\n",
    "plt.plot(x_points,YpredNN3,label=\"estimated F\")\n",
    "\n",
    "plt.legend()\n",
    "\n",
    "plt.title('Plot 3, 3 layers,16 neurons,8 neurons,4 neurons')"
   ]
  },
  {
   "cell_type": "code",
   "execution_count": null,
   "id": "e1f29a6e",
   "metadata": {},
   "outputs": [],
   "source": []
  }
 ],
 "metadata": {
  "kernelspec": {
   "display_name": "Python 3",
   "language": "python",
   "name": "python3"
  },
  "language_info": {
   "codemirror_mode": {
    "name": "ipython",
    "version": 3
   },
   "file_extension": ".py",
   "mimetype": "text/x-python",
   "name": "python",
   "nbconvert_exporter": "python",
   "pygments_lexer": "ipython3",
   "version": "3.8.8"
  }
 },
 "nbformat": 4,
 "nbformat_minor": 5
}
